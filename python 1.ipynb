{
 "cells": [
  {
   "cell_type": "code",
   "execution_count": 3,
   "id": "f893a5b9-a407-46bb-89c3-43df18471e81",
   "metadata": {},
   "outputs": [],
   "source": [
    "a = 1"
   ]
  },
  {
   "cell_type": "code",
   "execution_count": 7,
   "id": "f681b321-c087-4323-bf2f-e48bd6920605",
   "metadata": {},
   "outputs": [
    {
     "name": "stdout",
     "output_type": "stream",
     "text": [
      "1\n",
      "140710557268408\n",
      "<class 'int'>\n"
     ]
    }
   ],
   "source": [
    "print(a)\n",
    "print(id(a))\n",
    "print(type(a))"
   ]
  },
  {
   "cell_type": "code",
   "execution_count": 9,
   "id": "5edd1cb3-6728-44b7-bfb6-213e2eb5cba8",
   "metadata": {},
   "outputs": [],
   "source": [
    "list1= [ 1,2,3,4 ]"
   ]
  },
  {
   "cell_type": "code",
   "execution_count": 13,
   "id": "d516dea3-9203-4037-b0ad-bd5c955643ac",
   "metadata": {},
   "outputs": [
    {
     "name": "stdout",
     "output_type": "stream",
     "text": [
      "[1, 2, 3, 4]\n"
     ]
    }
   ],
   "source": [
    "print(list1)"
   ]
  },
  {
   "cell_type": "code",
   "execution_count": 19,
   "id": "b66b864d-73d3-4ed0-87c0-0160dfc35374",
   "metadata": {},
   "outputs": [
    {
     "name": "stdout",
     "output_type": "stream",
     "text": [
      "<class 'list'>\n",
      "1841398213504\n"
     ]
    }
   ],
   "source": [
    "print(type(list1))\n",
    "print(id(list1))"
   ]
  },
  {
   "cell_type": "code",
   "execution_count": 17,
   "id": "7c55b0e9-ca25-46c7-8c00-53677a9bfd18",
   "metadata": {},
   "outputs": [
    {
     "name": "stdout",
     "output_type": "stream",
     "text": [
      "[1, 2, 3, 4, 6]\n",
      "<class 'list'>\n",
      "1841398213504\n"
     ]
    }
   ],
   "source": [
    "list1.append(6)\n",
    "print(list1)\n",
    "print(type(list1))\n",
    "print(id(list1))"
   ]
  },
  {
   "cell_type": "code",
   "execution_count": 23,
   "id": "28fd89b4-709e-4973-8469-e09cf9022191",
   "metadata": {},
   "outputs": [
    {
     "name": "stdout",
     "output_type": "stream",
     "text": [
      "a is smaller than b\n"
     ]
    }
   ],
   "source": [
    "\n",
    "\n",
    "a=1\n",
    "b=2\n",
    "\n",
    "#print larger number of a and b\n",
    "if a>b:\n",
    "    print(\"a is larger than b\")\n",
    "else:\n",
    "    print(\"a is smaller than b\")\n",
    "\n",
    "print(id(a))"
   ]
  },
  {
   "cell_type": "code",
   "execution_count": 29,
   "id": "d527d711-6d30-4c4a-afb7-289b37e9f979",
   "metadata": {},
   "outputs": [
    {
     "name": "stdout",
     "output_type": "stream",
     "text": [
      "this is \"test\" string\n",
      "This is \\\"second\\\" string\n"
     ]
    }
   ],
   "source": [
    "#Strings - immutable\n",
    "\n",
    "str = \"this is \\\"test\\\" string\"\n",
    "str2 = r'This is \\\"second\\\" string'\n",
    "print(str)\n",
    "print(str2)"
   ]
  },
  {
   "cell_type": "code",
   "execution_count": 35,
   "id": "fc0b9c0c-d079-4e38-bd6a-c2e8328dc1cf",
   "metadata": {},
   "outputs": [
    {
     "data": {
      "text/plain": [
       "'THIS IS \\\\\"SECOND\\\\\" STRING'"
      ]
     },
     "execution_count": 35,
     "metadata": {},
     "output_type": "execute_result"
    }
   ],
   "source": [
    "str.lower()\n",
    "str2.upper()"
   ]
  },
  {
   "cell_type": "code",
   "execution_count": 33,
   "id": "c99a127a-5449-4a47-88a7-a5ff651637c6",
   "metadata": {},
   "outputs": [
    {
     "data": {
      "text/plain": [
       "'This is \\\\\"2\\\\\" string'"
      ]
     },
     "execution_count": 33,
     "metadata": {},
     "output_type": "execute_result"
    }
   ],
   "source": [
    "str2.replace(\"second\", \"2\")"
   ]
  },
  {
   "cell_type": "code",
   "execution_count": 37,
   "id": "7b20c041-9d92-4de7-b1a5-f09d0082ffaa",
   "metadata": {},
   "outputs": [
    {
     "data": {
      "text/plain": [
       "'hello world'"
      ]
     },
     "execution_count": 37,
     "metadata": {},
     "output_type": "execute_result"
    }
   ],
   "source": [
    "str1 = \"hello\"\n",
    "str2=\"world\"\n",
    "str1 + \" \" +str2"
   ]
  },
  {
   "cell_type": "code",
   "execution_count": 39,
   "id": "c322120d-a8cf-4c5a-a9a1-97cbc802d572",
   "metadata": {},
   "outputs": [
    {
     "data": {
      "text/plain": [
       "'hellohellohellohellohellohellohello'"
      ]
     },
     "execution_count": 39,
     "metadata": {},
     "output_type": "execute_result"
    }
   ],
   "source": [
    "str1*7"
   ]
  },
  {
   "cell_type": "code",
   "execution_count": 41,
   "id": "e255ec21-61a8-47f9-8d8c-21e0b4c1864c",
   "metadata": {},
   "outputs": [
    {
     "data": {
      "text/plain": [
       "'hello    '"
      ]
     },
     "execution_count": 41,
     "metadata": {},
     "output_type": "execute_result"
    }
   ],
   "source": [
    "str1+\" \" *4\n"
   ]
  },
  {
   "cell_type": "raw",
   "id": "3c734feb-ef39-4a45-866e-3dcd15b25284",
   "metadata": {},
   "source": [
    "str[2]"
   ]
  },
  {
   "cell_type": "code",
   "execution_count": 44,
   "id": "2d643b34-7eb3-4935-ad45-2f53d9303221",
   "metadata": {},
   "outputs": [
    {
     "data": {
      "text/plain": [
       "'i'"
      ]
     },
     "execution_count": 44,
     "metadata": {},
     "output_type": "execute_result"
    }
   ],
   "source": [
    "str[2]"
   ]
  },
  {
   "cell_type": "code",
   "execution_count": 46,
   "id": "d897a3f5-9384-4a5a-b62d-62e38f0ce5c2",
   "metadata": {},
   "outputs": [
    {
     "data": {
      "text/plain": [
       "5"
      ]
     },
     "execution_count": 46,
     "metadata": {},
     "output_type": "execute_result"
    }
   ],
   "source": [
    "len(str2)"
   ]
  },
  {
   "cell_type": "code",
   "execution_count": 48,
   "id": "124221e0-7a58-4eab-bd51-a93c640f912d",
   "metadata": {},
   "outputs": [
    {
     "data": {
      "text/plain": [
       "'l'"
      ]
     },
     "execution_count": 48,
     "metadata": {},
     "output_type": "execute_result"
    }
   ],
   "source": [
    "str1[-2]"
   ]
  },
  {
   "cell_type": "code",
   "execution_count": 1,
   "id": "5d330c86-a75e-4b4e-8505-279ad51b0441",
   "metadata": {},
   "outputs": [
    {
     "name": "stdout",
     "output_type": "stream",
     "text": [
      "a<b and c<d\n"
     ]
    }
   ],
   "source": [
    "a=1\n",
    "b=2\n",
    "c=3\n",
    "d=4\n",
    "\n",
    "if a<b:\n",
    "    if c<d:\n",
    "        print(\"a<b and c<d\")"
   ]
  },
  {
   "cell_type": "code",
   "execution_count": 3,
   "id": "3276edf0-8b33-4711-a698-f35433dc2705",
   "metadata": {},
   "outputs": [
    {
     "name": "stdout",
     "output_type": "stream",
     "text": [
      "0b11\n",
      "0b110\n"
     ]
    }
   ],
   "source": [
    "a=3\n",
    "b=6\n",
    "print(bin(a))\n",
    "print(bin(b))"
   ]
  },
  {
   "cell_type": "code",
   "execution_count": 7,
   "id": "679c31b8-8a3c-42f4-9f0f-86f0c93d436d",
   "metadata": {},
   "outputs": [
    {
     "name": "stdout",
     "output_type": "stream",
     "text": [
      "0b111\n"
     ]
    }
   ],
   "source": [
    "print(bin(a | b))"
   ]
  },
  {
   "cell_type": "code",
   "execution_count": 9,
   "id": "889fbeda-01b8-47a4-88bb-87d0cebc1599",
   "metadata": {},
   "outputs": [
    {
     "name": "stdout",
     "output_type": "stream",
     "text": [
      "1\n",
      "2\n",
      "3\n",
      "4\n",
      "5\n",
      "6\n",
      "7\n",
      "8\n",
      "9\n"
     ]
    }
   ],
   "source": [
    "#the while loop\n",
    "\n",
    "a=10\n",
    "b=1\n",
    "while b<a:\n",
    "    print(b)\n",
    "    b=b+1"
   ]
  },
  {
   "cell_type": "code",
   "execution_count": 11,
   "id": "40d2c008-6968-43ce-ab53-0246fa53d41d",
   "metadata": {},
   "outputs": [
    {
     "name": "stdout",
     "output_type": "stream",
     "text": [
      "1\n",
      "2\n",
      "3\n",
      "4\n",
      "5\n"
     ]
    }
   ],
   "source": [
    "list=[1,2,3,4,5]\n",
    "\n",
    "for v in list:\n",
    "    print(v)"
   ]
  },
  {
   "cell_type": "code",
   "execution_count": 13,
   "id": "1a4cf31d-af8a-4e95-93ff-cae5223919b7",
   "metadata": {},
   "outputs": [
    {
     "name": "stdout",
     "output_type": "stream",
     "text": [
      "0\n",
      "1\n",
      "2\n",
      "3\n",
      "4\n",
      "5\n",
      "6\n",
      "7\n",
      "8\n",
      "9\n"
     ]
    }
   ],
   "source": [
    "for i in range(0,10):\n",
    "    print(i)"
   ]
  },
  {
   "cell_type": "code",
   "execution_count": null,
   "id": "1163a180-ae1c-4638-90d7-b2cad5383e95",
   "metadata": {},
   "outputs": [],
   "source": [
    "if a<b:\n",
    "    pass\n",
    "elif b<a:\n",
    "\n",
    "else:\n",
    "    pass"
   ]
  }
 ],
 "metadata": {
  "kernelspec": {
   "display_name": "Python 3 (ipykernel)",
   "language": "python",
   "name": "python3"
  },
  "language_info": {
   "codemirror_mode": {
    "name": "ipython",
    "version": 3
   },
   "file_extension": ".py",
   "mimetype": "text/x-python",
   "name": "python",
   "nbconvert_exporter": "python",
   "pygments_lexer": "ipython3",
   "version": "3.12.4"
  }
 },
 "nbformat": 4,
 "nbformat_minor": 5
}
