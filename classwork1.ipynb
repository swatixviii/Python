{
 "cells": [
  {
   "cell_type": "markdown",
   "id": "279d3010-8dd1-47c0-813d-c5aee0ae4733",
   "metadata": {},
   "source": [
    "1. Write the program that has two functions:\n",
    "   \n",
    " (i) Write a function that takes input from users and stores it in a list and returns the list.\n",
    " \n",
    "(ii) Write a function that takes one input argument, the input argument should a list of numbers, \n",
    "     this function computes some average minimum maximum and cumulative sum(list item)\n",
    "   and return these values. Now use these functions first to take input from users and second to compute min or max"
   ]
  },
  {
   "cell_type": "code",
   "execution_count": 5,
   "id": "fc1b8e38-767e-4b34-8e87-ea1a83f0258d",
   "metadata": {},
   "outputs": [
    {
     "name": "stdin",
     "output_type": "stream",
     "text": [
      "Enter a number (or type 'done' to finish):  23\n",
      "Enter a number (or type 'done' to finish):  45\n",
      "Enter a number (or type 'done' to finish):  done\n"
     ]
    },
    {
     "name": "stdout",
     "output_type": "stream",
     "text": [
      "Average: 34.0\n",
      "Minimum: 23.0\n",
      "Maximum: 45.0\n",
      "Cumulative Sum: [23.0, 68.0]\n"
     ]
    }
   ],
   "source": [
    "# Function to take input from the user\n",
    "def input_from_user():\n",
    "    user_input = []\n",
    "    while True:\n",
    "        try:\n",
    "            num = float(input(\"Enter a number (or type 'done' to finish): \"))\n",
    "            user_input.append(num)\n",
    "        except ValueError:\n",
    "            break\n",
    "    return user_input\n",
    "\n",
    "# Function to compute average, minimum, maximum, and cumulative sum\n",
    "def stats(num_list):\n",
    "    if len(num_list) == 0:\n",
    "        return None, None, None, None\n",
    "    \n",
    "    avg = sum(num_list) / len(num_list)\n",
    "    min_val = min(num_list)\n",
    "    max_val = max(num_list)\n",
    "    cumulative_sum = [sum(num_list[:i+1]) for i in range(len(num_list))]\n",
    "    \n",
    "    return avg, min_val, max_val, cumulative_sum\n",
    "\n",
    "\n",
    "numbers = input_from_user()\n",
    "average, minimum, maximum, cumulative_sum = stats(numbers)\n",
    "\n",
    "print(f\"Average: {average}\")\n",
    "print(f\"Minimum: {minimum}\")\n",
    "print(f\"Maximum: {maximum}\")\n",
    "print(f\"Cumulative Sum: {cumulative_sum}\")\n"
   ]
  }
 ],
 "metadata": {
  "kernelspec": {
   "display_name": "Python 3 (ipykernel)",
   "language": "python",
   "name": "python3"
  },
  "language_info": {
   "codemirror_mode": {
    "name": "ipython",
    "version": 3
   },
   "file_extension": ".py",
   "mimetype": "text/x-python",
   "name": "python",
   "nbconvert_exporter": "python",
   "pygments_lexer": "ipython3",
   "version": "3.12.4"
  }
 },
 "nbformat": 4,
 "nbformat_minor": 5
}
