{
 "cells": [
  {
   "cell_type": "code",
   "execution_count": 25,
   "id": "83e2e9aa-38a0-4915-b9db-f82b632f464b",
   "metadata": {},
   "outputs": [
    {
     "ename": "SyntaxError",
     "evalue": "(unicode error) 'unicodeescape' codec can't decode bytes in position 2-3: truncated \\UXXXXXXXX escape (1218414721.py, line 3)",
     "output_type": "error",
     "traceback": [
      "\u001b[1;36m  Cell \u001b[1;32mIn[25], line 3\u001b[1;36m\u001b[0m\n\u001b[1;33m    address= 'C:\\Users\\Swati\\Downloads\\Organizer.zip'\u001b[0m\n\u001b[1;37m             ^\u001b[0m\n\u001b[1;31mSyntaxError\u001b[0m\u001b[1;31m:\u001b[0m (unicode error) 'unicodeescape' codec can't decode bytes in position 2-3: truncated \\UXXXXXXXX escape\n"
     ]
    }
   ],
   "source": [
    "import os \n",
    "\n",
    "address = 'C:\\Users\\Swati\\Downloads\\Organizer.zip'\n",
    "os.chdir(address)\n",
    "\n",
    "list_of_files = os.listdir()\n",
    "\n",
    "list_of_files\n",
    "\n",
    "dirs_to_create =\"Video,Audio,Images,Docs,Misc\".split(\",\")\n",
    "dirs_to_create\n",
    "\n",
    "\n"
   ]
  },
  {
   "cell_type": "code",
   "execution_count": null,
   "id": "f2454e15-d514-4739-a90b-18af0d426f4e",
   "metadata": {},
   "outputs": [],
   "source": []
  }
 ],
 "metadata": {
  "kernelspec": {
   "display_name": "Python 3 (ipykernel)",
   "language": "python",
   "name": "python3"
  },
  "language_info": {
   "codemirror_mode": {
    "name": "ipython",
    "version": 3
   },
   "file_extension": ".py",
   "mimetype": "text/x-python",
   "name": "python",
   "nbconvert_exporter": "python",
   "pygments_lexer": "ipython3",
   "version": "3.12.4"
  }
 },
 "nbformat": 4,
 "nbformat_minor": 5
}
