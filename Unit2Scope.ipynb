{
 "cells": [
  {
   "cell_type": "code",
   "execution_count": 39,
   "id": "3be4822a-2121-494b-ac7f-c9e223af6801",
   "metadata": {},
   "outputs": [
    {
     "name": "stdout",
     "output_type": "stream",
     "text": [
      "30\n",
      "20\n",
      "10\n"
     ]
    }
   ],
   "source": [
    "# main file \n",
    "\n",
    "x=10 #Global Variable\n",
    "\n",
    "def outer_function():\n",
    "    x=20 #Enclosing Variable\n",
    "    def inner_function():\n",
    "       x=30 #Local Variable\n",
    "       print(x) #output = 30\n",
    "    \n",
    "    inner_function()\n",
    "    print(x) #output = 20\n",
    "\n",
    "\n",
    "outer_function()\n",
    "print(x) #Output =10"
   ]
  },
  {
   "cell_type": "markdown",
   "id": "dabdedf5-8059-4bf2-84ab-2f161fa229b3",
   "metadata": {},
   "source": [
    "2. Write a function to multiply 3 numbers and returns its result with lambda and without lambdas\n"
   ]
  },
  {
   "cell_type": "code",
   "execution_count": 43,
   "id": "27c05908-2712-4cdb-a5e9-7c30c91a4cab",
   "metadata": {},
   "outputs": [
    {
     "name": "stdout",
     "output_type": "stream",
     "text": [
      "10\n",
      "24\n"
     ]
    }
   ],
   "source": [
    "#Lambda Function to multiply three numbers\n",
    "\n",
    "#with lambda\n",
    "multiply = lambda a, b, c: a*b*c\n",
    "print(multiply(2,1,5))\n",
    "\n",
    "#without lambda\n",
    "def multiply(x, y, z):\n",
    "    return x * y * z\n",
    "\n",
    "result = multiply(2, 3, 4)\n",
    "print(result)  # Output: 24"
   ]
  },
  {
   "cell_type": "code",
   "execution_count": null,
   "id": "2edc122c-7373-498b-8222-37695ec0e524",
   "metadata": {},
   "outputs": [],
   "source": []
  }
 ],
 "metadata": {
  "kernelspec": {
   "display_name": "Python 3 (ipykernel)",
   "language": "python",
   "name": "python3"
  },
  "language_info": {
   "codemirror_mode": {
    "name": "ipython",
    "version": 3
   },
   "file_extension": ".py",
   "mimetype": "text/x-python",
   "name": "python",
   "nbconvert_exporter": "python",
   "pygments_lexer": "ipython3",
   "version": "3.12.4"
  }
 },
 "nbformat": 4,
 "nbformat_minor": 5
}
