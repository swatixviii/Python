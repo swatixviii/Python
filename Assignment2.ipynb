{
 "cells": [
  {
   "cell_type": "markdown",
   "id": "d6319244-ca49-4e7e-9f7d-15190867834f",
   "metadata": {},
   "source": [
    "### 1. Basic Function Implementation:"
   ]
  },
  {
   "cell_type": "markdown",
   "id": "2bf62c43-bfb5-469a-b8a6-22498018f4b9",
   "metadata": {},
   "source": [
    "Write a function greet that takes two arguments: name (a string) and greeting (a string with a default value of \"Hello\"). The function should return a greeting message."
   ]
  },
  {
   "cell_type": "code",
   "execution_count": 3,
   "id": "9d54bd86-e3c2-46a6-86bd-61731aa2cdc4",
   "metadata": {},
   "outputs": [
    {
     "name": "stdout",
     "output_type": "stream",
     "text": [
      "HELLO! Swati Kumari\n",
      "Good Morning Shreya\n"
     ]
    }
   ],
   "source": [
    "def greet(name,greeting=\"HELLO!\"): #Variable greeting have a default value \"hello\"\n",
    "    print(f\"{greeting} {name}\") # Using string formating\n",
    "\n",
    "greet(\"Swati Kumari\")\n",
    "greet(\"Shreya\",\"Good Morning\")"
   ]
  },
  {
   "cell_type": "markdown",
   "id": "d37aa41f-4a8e-45a9-9284-e26c4a393b40",
   "metadata": {},
   "source": [
    "### 2. Named Arguments:"
   ]
  },
  {
   "cell_type": "markdown",
   "id": "1214f050-e56b-43c1-8ccf-94a00b327ed4",
   "metadata": {},
   "source": [
    "Create a function create_profile that takes arguments for name, age, and city as named arguments. The function should return a string like \"Name: Alice, Age: 25, City: New York\". Ensure that the age argument has a default value of 18."
   ]
  },
  {
   "cell_type": "code",
   "execution_count": 12,
   "id": "af14f4d1-b1d9-4816-9b8b-5045bb89ddb5",
   "metadata": {},
   "outputs": [
    {
     "name": "stdout",
     "output_type": "stream",
     "text": [
      "Name: Swati Kumari, Age: 18, City: Dehradun\n",
      "Name: Ritika Mishra, Age: 25, City: Indore\n"
     ]
    }
   ],
   "source": [
    "def create_profile(*, name, age=18, city):\n",
    "   #function returns a formatted string with the provided name, age, and city.\n",
    "    return f\"Name: {name}, Age: {age}, City: {city}\"\n",
    "\n",
    "#age parameter has a default value of 18, so i did not provide a specific age.\n",
    "print(create_profile(name=\"Swati Kumari\", city=\"Dehradun\"))\n",
    "\n",
    "print(create_profile(name=\"Ritika Mishra\", age=25, city=\"Indore\"))  \n"
   ]
  },
  {
   "cell_type": "markdown",
   "id": "193cab26-7ed8-4c8e-a8dc-cf6b47fb7fb4",
   "metadata": {},
   "source": [
    "### 3 **Using *args and kwargs:"
   ]
  },
  {
   "cell_type": "markdown",
   "id": "787ee376-51fe-446e-8be0-91f59b43c432",
   "metadata": {},
   "source": [
    "Write a function sum_numbers that takes any number of positional arguments (args) and keyword arguments (*kwargs)."
   ]
  },
  {
   "cell_type": "code",
   "execution_count": 15,
   "id": "5cff1915-249f-4704-a4dc-01029dd454ad",
   "metadata": {},
   "outputs": [
    {
     "name": "stdout",
     "output_type": "stream",
     "text": [
      "(6.5, {'a': 10, 'b': 'world'})\n"
     ]
    }
   ],
   "source": [
    "def sum_numbers(*args, **kwargs):\n",
    "    # Sum only numerical args\n",
    "    args_sum = sum(arg for arg in args if isinstance(arg, (int, float)))\n",
    "    \n",
    "    # Return the dictionary of keyword arguments\n",
    "    return args_sum, kwargs\n",
    "\n",
    "print(sum_numbers(1, 2, 3.5, \"hello\", a=10, b=\"world\"))  \n"
   ]
  },
  {
   "cell_type": "markdown",
   "id": "549b9cd1-de91-4a7a-b077-888b919dd722",
   "metadata": {},
   "source": [
    "### 4. Lambdas and Map:"
   ]
  },
  {
   "cell_type": "markdown",
   "id": "154d9d40-6674-4afe-b4b2-827cf5dd3d31",
   "metadata": {},
   "source": [
    "Write a function that uses map and a lambda to return a list where each element is squared.\n",
    "\n"
   ]
  },
  {
   "cell_type": "code",
   "execution_count": 20,
   "id": "b6a353c1-63d5-432d-8dc9-37c0978ccc34",
   "metadata": {},
   "outputs": [
    {
     "name": "stdout",
     "output_type": "stream",
     "text": [
      "[1, 4, 9, 16, 25]\n"
     ]
    }
   ],
   "source": [
    "#lambda function\n",
    "def square_elements(numbers):\n",
    "     #squaring the numbers present in the lists with the help of map\n",
    "    return list(map(lambda x: x**2, numbers))\n",
    "\n",
    "numbers = [1, 2, 3, 4, 5]\n",
    "#printing the list where each element is squared\n",
    "print(square_elements(numbers))  \n"
   ]
  },
  {
   "cell_type": "markdown",
   "id": "14c26740-63b6-4b79-b03b-bcb421c908f8",
   "metadata": {},
   "source": [
    "### 5. Filter and Lambdas:"
   ]
  },
  {
   "cell_type": "markdown",
   "id": "8e134dcf-18db-4e53-8db6-fe40d7e1a024",
   "metadata": {},
   "source": [
    "Write a function that filters out all odd numbers from a list using filter and a lambda function."
   ]
  },
  {
   "cell_type": "code",
   "execution_count": 25,
   "id": "0e107da1-534d-4ad8-9007-06b4621ef93d",
   "metadata": {},
   "outputs": [
    {
     "name": "stdout",
     "output_type": "stream",
     "text": [
      "[2, 4, 6, 8]\n"
     ]
    }
   ],
   "source": [
    "def filter_odds(numbers):\n",
    "    #checking whether the number in numbers are divisible by 2 for even\n",
    "    return list(filter(lambda x: x % 2 == 0, numbers))\n",
    "numbers = [1, 2, 3, 4, 5, 6, 7, 8]\n",
    "#prints the odd numbers from the list\n",
    "print(filter_odds(numbers))  \n"
   ]
  },
  {
   "cell_type": "markdown",
   "id": "414e2470-f955-49ab-a21a-6ca36bc51dba",
   "metadata": {},
   "source": [
    "### 6. Basic List Comprehension:"
   ]
  },
  {
   "cell_type": "markdown",
   "id": "0de90e4e-ff0b-4857-98e6-c79f22a5c076",
   "metadata": {},
   "source": [
    "Create a list comprehension that takes a list of numbers and returns a list of their squares."
   ]
  },
  {
   "cell_type": "code",
   "execution_count": 27,
   "id": "145d39e7-9451-45d3-8f2a-df75b6c475fa",
   "metadata": {},
   "outputs": [
    {
     "name": "stdout",
     "output_type": "stream",
     "text": [
      "[1, 4, 9, 16, 25]\n"
     ]
    }
   ],
   "source": [
    "#creating a list\n",
    "numbers = [1, 2, 3, 4, 5]\n",
    "squared_numbers = [x**2 for x in numbers]\n",
    "print(squared_numbers)  "
   ]
  },
  {
   "cell_type": "markdown",
   "id": "a2bf7b9f-96db-46e7-9afd-81c16c473259",
   "metadata": {},
   "source": [
    "### 7. List Comprehension with Condition:"
   ]
  },
  {
   "cell_type": "markdown",
   "id": "86799e26-e59f-4ad6-b938-3bd574a53656",
   "metadata": {},
   "source": [
    "Use a list comprehension to create a list of even numbers from 1 to 20."
   ]
  },
  {
   "cell_type": "code",
   "execution_count": 30,
   "id": "717d0bdd-23ef-452f-b9b9-7428c0728358",
   "metadata": {},
   "outputs": [
    {
     "name": "stdout",
     "output_type": "stream",
     "text": [
      "[2, 4, 6, 8, 10, 12, 14, 16, 18, 20]\n"
     ]
    }
   ],
   "source": [
    "even = [x for x in range(1, 21) if x % 2 == 0] #checking whether the number in numbers are divisible by 2\n",
    "print(even)"
   ]
  },
  {
   "cell_type": "markdown",
   "id": "c3bbde83-22ff-436b-b38d-f01e4488fc8d",
   "metadata": {},
   "source": [
    "### 8. Using os and time Modules:"
   ]
  },
  {
   "cell_type": "markdown",
   "id": "2b5ddf16-58c2-42be-b0cb-e4e6970c5a6f",
   "metadata": {},
   "source": [
    "Write a function file_operations that creates a directory named \"test_folder\" using os.makedirs(). Then, pause the execution for 3 seconds using time.sleep(), and finally, delete the directory using os.rmdir().\n",
    "\n"
   ]
  },
  {
   "cell_type": "code",
   "execution_count": 33,
   "id": "fb2d281a-171b-49a6-9fd8-222db2c494a2",
   "metadata": {},
   "outputs": [
    {
     "name": "stdout",
     "output_type": "stream",
     "text": [
      "Directory 'test_folder' created.\n",
      "Directory 'test_folder' deleted.\n"
     ]
    }
   ],
   "source": [
    "import os\n",
    "import time\n",
    "\n",
    "def file_operations():\n",
    "    # Create a directory named \"test_folder\"\n",
    "    os.makedirs(\"test_folder\", exist_ok=True)\n",
    "    print(\"Directory 'test_folder' created.\")\n",
    "    \n",
    "    # Pause execution for 3 seconds\n",
    "    time.sleep(3)\n",
    "    \n",
    "    # Delete the directory\n",
    "    os.rmdir(\"test_folder\")\n",
    "    print(\"Directory 'test_folder' deleted.\")\n",
    "file_operations()\n"
   ]
  },
  {
   "cell_type": "markdown",
   "id": "d35dd91e-51c2-4d43-9531-0048211166a8",
   "metadata": {},
   "source": [
    "### 9. Importing Specific Functions:"
   ]
  },
  {
   "cell_type": "markdown",
   "id": "d2d5bf20-4b96-4ff9-b832-0c5f01f9d9ef",
   "metadata": {},
   "source": [
    "Write a Python script that imports only sleep from the time module and renames it to pause. Use it to pause execution for 2 seconds and print \"Paused execution...\"."
   ]
  },
  {
   "cell_type": "code",
   "execution_count": 35,
   "id": "e51b695e-e264-495d-9c2c-fc667c140bcc",
   "metadata": {},
   "outputs": [
    {
     "name": "stdout",
     "output_type": "stream",
     "text": [
      "Paused execution...\n"
     ]
    }
   ],
   "source": [
    "#importing the function, sleep from time module and rename as pause\n",
    "from time import sleep as pause\n",
    "\n",
    "# Pause execution for 2 seconds\n",
    "pause(2)\n",
    "\n",
    "# Print a message after the pause\n",
    "print(\"Paused execution...\")\n"
   ]
  },
  {
   "cell_type": "markdown",
   "id": "267aa3a4-d3e7-4f0e-8d56-634080d50129",
   "metadata": {},
   "source": [
    "### 10. **Recursive Function with *args and kwargs (Flattening a List):"
   ]
  },
  {
   "cell_type": "markdown",
   "id": "b9be41e5-f08a-4ecd-9bf0-d22efba43dc3",
   "metadata": {},
   "source": [
    "Write a recursive function flatten_list that can flatten a nested list of any depth using *args and **kwargs."
   ]
  },
  {
   "cell_type": "code",
   "execution_count": 37,
   "id": "36d2e53a-5533-430f-89e3-bc3458a1749e",
   "metadata": {},
   "outputs": [
    {
     "name": "stdout",
     "output_type": "stream",
     "text": [
      "[1, 2, 3, 4, 5, 6, 7, 8]\n"
     ]
    }
   ],
   "source": [
    "def flatten_list(nested_list, *args, **kwargs):\n",
    "    flat_list = []\n",
    "    \n",
    "    for item in nested_list:\n",
    "        if isinstance(item, list):\n",
    "            # Recursively flatten the sublist\n",
    "            flat_list.extend(flatten_list(item, *args, **kwargs))\n",
    "        else:\n",
    "            # If the item is not a list, add it directly to the flat list\n",
    "            flat_list.append(item)\n",
    "    \n",
    "    return flat_list\n",
    "nested_list = [1, [2, [3, 4], 5], [6, 7], 8]\n",
    "print(flatten_list(nested_list))"
   ]
  }
 ],
 "metadata": {
  "kernelspec": {
   "display_name": "Python 3 (ipykernel)",
   "language": "python",
   "name": "python3"
  },
  "language_info": {
   "codemirror_mode": {
    "name": "ipython",
    "version": 3
   },
   "file_extension": ".py",
   "mimetype": "text/x-python",
   "name": "python",
   "nbconvert_exporter": "python",
   "pygments_lexer": "ipython3",
   "version": "3.12.4"
  }
 },
 "nbformat": 4,
 "nbformat_minor": 5
}
