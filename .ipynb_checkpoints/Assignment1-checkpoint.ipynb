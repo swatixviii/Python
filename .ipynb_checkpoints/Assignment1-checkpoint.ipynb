{
 "cells": [
  {
   "cell_type": "markdown",
   "id": "8a59dd15-d0dd-4e96-a547-965f6f3f9ae7",
   "metadata": {},
   "source": [
    "### Assignment 1"
   ]
  },
  {
   "cell_type": "markdown",
   "id": "92c43696-3486-4386-bc0b-2259c30ee318",
   "metadata": {},
   "source": [
    "### Part 1: Introduction to Python"
   ]
  },
  {
   "cell_type": "markdown",
   "id": "2213e377-461a-4d4c-bcf1-e3efcec67633",
   "metadata": {
    "jp-MarkdownHeadingCollapsed": true
   },
   "source": [
    "1. Python execution and installation"
   ]
  },
  {
   "cell_type": "markdown",
   "id": "223adac7-a30e-4cf4-9bff-032009806345",
   "metadata": {},
   "source": [
    "![ph1](./ph1.png)"
   ]
  },
  {
   "cell_type": "markdown",
   "id": "0b36ea94-1fd6-4e66-8e11-9ae3fe8226c3",
   "metadata": {},
   "source": [
    "2. Using IDLE"
   ]
  },
  {
   "cell_type": "markdown",
   "id": "cac8c00a-1746-4c01-94e5-40fb0ecd1636",
   "metadata": {},
   "source": [
    "![label](./ph2.png)"
   ]
  },
  {
   "cell_type": "markdown",
   "id": "eb6cdcb7-cbf9-4711-ab4d-6a888abc5aa7",
   "metadata": {
    "jp-MarkdownHeadingCollapsed": true
   },
   "source": [
    "### Part 2: Basic Python Syntax"
   ]
  },
  {
   "cell_type": "markdown",
   "id": "067b296e-426c-4718-aa30-964c2925ce9d",
   "metadata": {},
   "source": [
    "1. String Operations "
   ]
  },
  {
   "cell_type": "code",
   "execution_count": 3,
   "id": "5e82d434-3933-4e56-a205-83b07e351efd",
   "metadata": {},
   "outputs": [
    {
     "name": "stdin",
     "output_type": "stream",
     "text": [
      "Enter your first name:  Shreya\n",
      "Enter your last name:  Pandey\n"
     ]
    },
    {
     "name": "stdout",
     "output_type": "stream",
     "text": [
      "Pandey Shreya\n"
     ]
    }
   ],
   "source": [
    "# Take user's first and last name as input\n",
    "first_name = input(\"Enter your first name: \").strip().capitalize()\n",
    "last_name = input(\"Enter your last name: \").strip().capitalize()\n",
    "\n",
    "# Print the names in reverse order with a space in between\n",
    "print(f\"{last_name} {first_name}\")\n"
   ]
  },
  {
   "cell_type": "code",
   "execution_count": 161,
   "id": "ed490fd5-e815-4573-9d90-49e77824a5ff",
   "metadata": {},
   "outputs": [],
   "source": [
    "## Explanation\n",
    "#strip(): This method is used to remove any leading or trailing whitespace from the input strings (first_name and last_name).\n",
    "#This ensures that if the user accidentally adds extra spaces before or after their name, those spaces are removed.\n"
   ]
  },
  {
   "cell_type": "markdown",
   "id": "e335495e-b603-4426-b8db-67088b57e700",
   "metadata": {},
   "source": [
    "2. Numeric Datatypes and Conversions"
   ]
  },
  {
   "cell_type": "code",
   "execution_count": 36,
   "id": "a3f2b46a-3398-4082-8ede-4ca827ef76a7",
   "metadata": {},
   "outputs": [
    {
     "name": "stdin",
     "output_type": "stream",
     "text": [
      "Enter a number:  56\n"
     ]
    },
    {
     "name": "stdout",
     "output_type": "stream",
     "text": [
      "Integer: 56\n",
      "Float: 56.0\n",
      "Complex: (56+0j)\n"
     ]
    }
   ],
   "source": [
    "\n",
    "# Take input number from the user as a string\n",
    "user_input = input(\"Enter a number: \")\n",
    "\n",
    "# Convert the input to different numeric data types\n",
    "integer_value = int(float(user_input))  # Convert to float first to handle decimal inputs, then to integer\n",
    "float_value = float(user_input)         # Convert to float\n",
    "complex_value = complex(user_input)     # Convert to complex\n",
    "\n",
    "# Display the converted values\n",
    "print(f\"Integer: {integer_value}\")\n",
    "print(f\"Float: {float_value}\")\n",
    "print(f\"Complex: {complex_value}\")\n"
   ]
  },
  {
   "cell_type": "code",
   "execution_count": null,
   "id": "10d2930e-ebc2-4daf-9f66-0b2e68abc7f2",
   "metadata": {},
   "outputs": [],
   "source": [
    "# Explanation of Data Types:\n",
    "\n",
    "# 1. Integer (int):\n",
    "#    - Integers are whole numbers without any decimal point.\n",
    "#    - They can be positive, negative, or zero.\n",
    "#    - Examples: -3, 0, 56\n",
    "\n",
    "# 2. Float (float):\n",
    "#    - Floats are numbers that have a decimal point.\n",
    "#    - They can represent both whole numbers and fractions.\n",
    "#    - Examples: 3.14, -0.001, 2.0\n",
    "\n",
    "# 3. Complex (complex):\n",
    "#    - Complex numbers consist of a real part and an imaginary part.\n",
    "#    - In Python, a complex number is written as \"a + bj\", where \"a\" is the real part, and \"b\" is the imaginary part.\n",
    "#    - If only the real part is provided, the imaginary part is assumed to be 0.\n",
    "#    - Examples: 3+4j, -2.1+0j"
   ]
  },
  {
   "cell_type": "markdown",
   "id": "f3018d89-cf04-47f2-90e1-670ea46a13ea",
   "metadata": {},
   "source": [
    "3. Single Input and Output "
   ]
  },
  {
   "cell_type": "code",
   "execution_count": 39,
   "id": "5c0bb9b0-0699-416c-b82b-dd673f17a527",
   "metadata": {},
   "outputs": [
    {
     "name": "stdin",
     "output_type": "stream",
     "text": [
      "Enter the length of the rectangle:  34\n",
      "Enter the width of the rectangle:  12\n"
     ]
    },
    {
     "name": "stdout",
     "output_type": "stream",
     "text": [
      "The area of the rectangle is: 408.0\n"
     ]
    }
   ],
   "source": [
    "\n",
    "# Prompt the user to enter the length of the rectangle\n",
    "length = float(input(\"Enter the length of the rectangle: \"))\n",
    "\n",
    "# Prompt the user to enter the width of the rectangle\n",
    "width = float(input(\"Enter the width of the rectangle: \"))\n",
    "\n",
    "# Calculate the area of the rectangle\n",
    "area = length * width\n",
    "\n",
    "# Display the result\n",
    "print(f\"The area of the rectangle is: {area}\")\n"
   ]
  },
  {
   "cell_type": "markdown",
   "id": "7363028c-c9c0-4fcc-85db-47fb49dbb5e6",
   "metadata": {},
   "source": [
    "4. The Format Method"
   ]
  },
  {
   "cell_type": "code",
   "execution_count": 20,
   "id": "91491373-aa86-4b03-aeed-04e9c13b00b8",
   "metadata": {},
   "outputs": [
    {
     "name": "stdout",
     "output_type": "stream",
     "text": [
      "The area of the rectangle is: 72.00\n"
     ]
    }
   ],
   "source": [
    "\n",
    "# Display the result formatted to two decimal places\n",
    "print(f\"The area of the rectangle is: {area:.2f}\")"
   ]
  },
  {
   "cell_type": "markdown",
   "id": "5e954963-7a0c-4746-a1c1-b8e07d8c9566",
   "metadata": {},
   "source": [
    " 5. The % and the print function"
   ]
  },
  {
   "cell_type": "code",
   "execution_count": 24,
   "id": "886947b1-9abb-4e2c-a69f-cfdae456658b",
   "metadata": {},
   "outputs": [
    {
     "name": "stdin",
     "output_type": "stream",
     "text": [
      "Enter the first number:  65\n",
      "Enter the second number:  6\n",
      "Enter the third number:  12\n"
     ]
    },
    {
     "name": "stdout",
     "output_type": "stream",
     "text": [
      "The average of the three numbers is: 27.67\n"
     ]
    }
   ],
   "source": [
    "#Average and % function\n",
    "\n",
    "# Taking three numbers as input\n",
    "num1 = float(input(\"Enter the first number: \"))\n",
    "num2 = float(input(\"Enter the second number: \"))\n",
    "num3 = float(input(\"Enter the third number: \"))\n",
    "\n",
    "# Calculating the average\n",
    "average = (num1 + num2 + num3) / 3\n",
    "\n",
    "# Printing the average using % formatting\n",
    "print(\"The average of the three numbers is: %.2f\" % average)\n"
   ]
  },
  {
   "cell_type": "markdown",
   "id": "33538ac4-1a06-440f-bae6-d435ecaea8dd",
   "metadata": {
    "jp-MarkdownHeadingCollapsed": true
   },
   "source": [
    "### Part 3: Language Components"
   ]
  },
  {
   "cell_type": "markdown",
   "id": "fdf8265a-e2e0-45ce-ae0d-4ec85d2a6282",
   "metadata": {},
   "source": [
    "1.Control Flow(if Statements and Loops)"
   ]
  },
  {
   "cell_type": "code",
   "execution_count": 159,
   "id": "3f97ce1d-fd95-451c-92fd-765c6ff78c08",
   "metadata": {},
   "outputs": [
    {
     "name": "stdin",
     "output_type": "stream",
     "text": [
      "Enter a number (or type 'exit' to quit):  23\n"
     ]
    },
    {
     "name": "stdout",
     "output_type": "stream",
     "text": [
      "The number is positive.\n"
     ]
    },
    {
     "name": "stdin",
     "output_type": "stream",
     "text": [
      "Enter a number (or type 'exit' to quit):  -3\n"
     ]
    },
    {
     "name": "stdout",
     "output_type": "stream",
     "text": [
      "The number is negative.\n"
     ]
    },
    {
     "name": "stdin",
     "output_type": "stream",
     "text": [
      "Enter a number (or type 'exit' to quit):  0\n"
     ]
    },
    {
     "name": "stdout",
     "output_type": "stream",
     "text": [
      "The number is zero.\n"
     ]
    },
    {
     "name": "stdin",
     "output_type": "stream",
     "text": [
      "Enter a number (or type 'exit' to quit):  exit\n"
     ]
    },
    {
     "name": "stdout",
     "output_type": "stream",
     "text": [
      "Program Exit\n"
     ]
    }
   ],
   "source": [
    "while True:\n",
    "    # Ask the user for a number\n",
    "    user_input = input(\"Enter a number (or type 'exit' to quit): \")\n",
    "    \n",
    "    # Check if the user wants to exit the program\n",
    "    if user_input.lower() == 'exit':\n",
    "        break  # Exit the loop if the user enters 'exit'\n",
    "    \n",
    "    try:\n",
    "        # Convert the input to a float\n",
    "        number = float(user_input)\n",
    "        \n",
    "        # Determine if the number is positive, negative, or zero\n",
    "        if number > 0:\n",
    "            print(\"The number is positive.\")\n",
    "        elif number < 0:\n",
    "            print(\"The number is negative.\")\n",
    "        else:\n",
    "            print(\"The number is zero.\")\n",
    "    \n",
    "    except ValueError:\n",
    "        # Handle the case where the input is not a valid number\n",
    "        print(\"Please enter a valid number.\")\n",
    "\n",
    "# Program ends when 'exit' is entered\n",
    "print(\"Program Exit\")\n"
   ]
  },
  {
   "cell_type": "markdown",
   "id": "ad98682e-39ed-4eb1-a8db-b2e2b8f215ea",
   "metadata": {},
   "source": [
    "2.Relational and Logical Operator"
   ]
  },
  {
   "cell_type": "code",
   "execution_count": 78,
   "id": "7858630d-cc5b-4cef-8206-24d2391a2cac",
   "metadata": {},
   "outputs": [
    {
     "name": "stdin",
     "output_type": "stream",
     "text": [
      "Enter the first number:  23\n",
      "Enter the second number:  45\n"
     ]
    },
    {
     "name": "stdout",
     "output_type": "stream",
     "text": [
      "Both numbers are odd.\n"
     ]
    }
   ],
   "source": [
    "num1 = int(input(\"Enter the first number: \"))\n",
    "num2 = int(input(\"Enter the second number: \"))\n",
    "if num1 % 2 == 0 and num2 % 2 == 0:\n",
    "    print (\"Both numbers are even.\")\n",
    "elif num1 % 2 != 0 and num2 % 2 != 0:\n",
    "    print(\"Both numbers are odd.\")\n",
    "else:\n",
    "    print(\"One number is even and the other is odd.\")"
   ]
  },
  {
   "cell_type": "markdown",
   "id": "af2aa575-d85c-4526-a0bd-7412ab6751e4",
   "metadata": {},
   "source": [
    "3. For loop and Bitwise Operator"
   ]
  },
  {
   "cell_type": "code",
   "execution_count": 64,
   "id": "a3c663b2-eaa1-45aa-afa1-b6b7f2f03916",
   "metadata": {},
   "outputs": [
    {
     "name": "stdin",
     "output_type": "stream",
     "text": [
      "Enter a decimal NUmber:  23\n"
     ]
    },
    {
     "name": "stdout",
     "output_type": "stream",
     "text": [
      "Binary Number: 10111\n",
      "Octal Number: 27\n",
      "Hexadecimal Number: 17\n"
     ]
    }
   ],
   "source": [
    "decimal_num=int(input(\"Enter a decimal NUmber: \"))\n",
    "binary = \"\" # Initialize an empty string to store the binary representation\n",
    "    \n",
    "# Edge case for 0\n",
    "n=decimal_num\n",
    "if n == 0:\n",
    "    binary= \"0\"\n",
    "    \n",
    "# Convert the decimal number to binary\n",
    "while n > 0:\n",
    "        \n",
    "    bit = n & 1 # Use bitwise AND to get the least significant bit (0 or 1)\n",
    "    binary = str(bit) + binary # Prepend the bit to the binary string    \n",
    "    n = n >> 1 # Right shift n by 1 to process the next bit\n",
    "\n",
    "# Convert the decimal number to octal\n",
    "octal = \"\"\n",
    "n=decimal_num    \n",
    "# Edge case for 0\n",
    "if n == 0:\n",
    "    octal= \"0\"\n",
    "\n",
    "while n > 0:\n",
    "    \n",
    "    octal_digit = n & 0b111  # Use bitwise AND to get the last 3 bits (octal digit)   \n",
    "    octal = str(octal_digit) + octal  # Prepend the octal digit to the octal string\n",
    "    n = n >> 3  # Right shift n by 3 to process the next octal digit\n",
    "\n",
    "# Convert the decimal number to hexadecimal\n",
    "hexadecimal = \"\" # Initialize an empty string to store the hexadecimal representation\n",
    "n=decimal_num    \n",
    "# Edge case for 0\n",
    "if n == 0:\n",
    "    hexadecimal= \"0\"\n",
    "    \n",
    "# Mapping of decimal values to hexadecimal digits\n",
    "hex_map = \"0123456789ABCDEF\"\n",
    "    \n",
    "while n > 0:\n",
    "        \n",
    "    hex_digit = n & 0b1111# Use bitwise AND to get the last 4 bits (hexadecimal digit)\n",
    "    hexadecimal = hex_map[hex_digit] + hexadecimal  # Prepend the corresponding hexadecimal character to the string\n",
    "    n = n >> 4  # Right shift n by 4 to process the next hexadecimal digit\n",
    "\n",
    "# Display the converted values\n",
    "print(f\"Binary Number: {binary}\")\n",
    "print(f\"Octal Number: {octal}\")\n",
    "print(f\"Hexadecimal Number: {hexadecimal}\")"
   ]
  },
  {
   "cell_type": "code",
   "execution_count": null,
   "id": "a7e86ce2-0e1f-4ad5-991d-34c923f0ca13",
   "metadata": {},
   "outputs": [],
   "source": []
  }
 ],
 "metadata": {
  "kernelspec": {
   "display_name": "Python 3 (ipykernel)",
   "language": "python",
   "name": "python3"
  },
  "language_info": {
   "codemirror_mode": {
    "name": "ipython",
    "version": 3
   },
   "file_extension": ".py",
   "mimetype": "text/x-python",
   "name": "python",
   "nbconvert_exporter": "python",
   "pygments_lexer": "ipython3",
   "version": "3.12.4"
  }
 },
 "nbformat": 4,
 "nbformat_minor": 5
}
