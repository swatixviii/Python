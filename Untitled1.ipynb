{
 "cells": [
  {
   "cell_type": "code",
   "execution_count": null,
   "id": "c305ed20-b603-476a-a2c2-4060aafbcbda",
   "metadata": {},
   "outputs": [],
   "source": [
    "import os\n",
    "\n",
    "#to create a directory\n",
    "dirName =\"Images\"\n",
    "make_dir_cmd = f\"md (dirName)\"\n",
    "os.system(make_dir_cmd)\n",
    "\n",
    "os.mkdir(\"dirName)\"\n",
    "\n",
    "\n",
    "#to move file\n",
    " relative"
   ]
  }
 ],
 "metadata": {
  "kernelspec": {
   "display_name": "Python 3 (ipykernel)",
   "language": "python",
   "name": "python3"
  },
  "language_info": {
   "codemirror_mode": {
    "name": "ipython",
    "version": 3
   },
   "file_extension": ".py",
   "mimetype": "text/x-python",
   "name": "python",
   "nbconvert_exporter": "python",
   "pygments_lexer": "ipython3",
   "version": "3.12.4"
  }
 },
 "nbformat": 4,
 "nbformat_minor": 5
}
