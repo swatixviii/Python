{
 "cells": [
  {
   "cell_type": "code",
   "execution_count": null,
   "id": "e5af473c-488c-4f15-b8b0-dc1573331e11",
   "metadata": {},
   "outputs": [],
   "source": [
    "#WAP that generates list of email address using list of sapids\n",
    "\n",
    "#generate email address using sapid\n",
    "#sapid\n",
    "12345326654\n",
    "#email\n",
    "12345326654@stu.upes.ac.in\n",
    "#using\n",
    "# 1.Functions/for loop\n",
    "# 2.Map/filter and lambda\n",
    "# 3. List comprehension\n",
    "\n",
    "sapids = [123,234324,34534,2342]\n",
    "lists_of_emails =#your logic "
   ]
  },
  {
   "cell_type": "code",
   "execution_count": null,
   "id": "7d10e687-1725-466d-bd54-890aa1d7edd0",
   "metadata": {},
   "outputs": [],
   "source": [
    "#1st logic using map and functions \n",
    "\n",
    "sapids =[123,234324,34534,2342]\n",
    "def "
   ]
  }
 ],
 "metadata": {
  "kernelspec": {
   "display_name": "Python 3 (ipykernel)",
   "language": "python",
   "name": "python3"
  },
  "language_info": {
   "codemirror_mode": {
    "name": "ipython",
    "version": 3
   },
   "file_extension": ".py",
   "mimetype": "text/x-python",
   "name": "python",
   "nbconvert_exporter": "python",
   "pygments_lexer": "ipython3",
   "version": "3.12.4"
  }
 },
 "nbformat": 4,
 "nbformat_minor": 5
}
